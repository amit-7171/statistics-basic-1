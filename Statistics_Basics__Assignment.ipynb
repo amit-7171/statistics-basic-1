{
  "nbformat": 4,
  "nbformat_minor": 0,
  "metadata": {
    "colab": {
      "provenance": []
    },
    "kernelspec": {
      "name": "python3",
      "display_name": "Python 3"
    },
    "language_info": {
      "name": "python"
    }
  },
  "cells": [
    {
      "cell_type": "markdown",
      "source": [
        "Question 1: What is the difference between descriptive statistics and inferential statistics?\n",
        "Explain with examples.\n",
        "\n",
        "Answer-: Descriptive statistics summarize and describe the characteristics of a specific\n",
        "dataset, such as a population or a sample. They are used to present data in a meaningful\n",
        "way, often through charts, graphs, and summary measures. In contrast, inferential statistics\n",
        "use data from a sample to make predictions, generalizations, or inferences about a larger\n",
        "population. This branch of statistics allows for conclusions that extend beyond the immediate\n",
        "data.\n",
        "Descriptive Statistics\n",
        "Descriptive statistics simply describe what the data shows. They organize and summarize\n",
        "data in a way that is easy to understand. There is no attempt to generalize the findings to a\n",
        "larger group. The goal is to provide a clear, concise picture of the data you have.\n",
        "● Measures of Central Tendency: These describe the center or average of the data.\n",
        "○ Mean: The average of all values.\n",
        "○ Median: The middle value when the data is ordered.\n",
        "○ Mode: The value that appears most frequently.\n",
        "● Measures of Variability (or Dispersion): These describe the spread of the data.\n",
        "○ Range: The difference between the highest and lowest values.\n",
        "○ Standard Deviation: A measure of how spread out the values are from the\n",
        "mean.\n",
        "○ Variance: The average of the squared differences from the mean.\n",
        "Example of Descriptive Statistics\n",
        "Imagine a teacher gives a test to a class of 30 students. To describe the class's\n",
        "performance, the teacher could use descriptive statistics. They might calculate:\n",
        "● The average (mean) score of 85.\n",
        "● The median score of 87.\n",
        "● The most frequent (mode) score of 90.\n",
        "● The range of scores from 60 to 98.\n",
        "This information provides a clear summary of how the class performed, but it doesn't say\n",
        "anything about the performance of other students outside of this specific class.\n",
        "Inferential Statistics\n",
        "Inferential statistics go beyond simply describing a dataset. They use a sample of data to\n",
        "make inferences and draw conclusions about a larger population. The goal is to test\n",
        "hypotheses and make predictions with a certain level of confidence, accounting for the\n",
        "possibility of error.\n",
        "Common tools used in inferential statistics include:\n",
        "● Hypothesis Testing: A formal process to test a claim or assumption about a\n",
        "population. For example, a drug company might test if a new drug is more effective\n",
        "than a placebo.\n",
        "● Confidence Intervals: A range of values used to estimate a population parameter.\n",
        "For example, a 95% confidence interval for the average height of a population might\n",
        "be 65 to 68 inches.\n",
        "● Regression Analysis: Used to examine the relationship between two or more\n",
        "variables and make predictions. For example, predicting a person's weight based on\n",
        "their height and age.\n",
        "Example of Inferential Statistics\n",
        "Continuing with the previous example, a state education official wants to know if the new\n",
        "teaching method used in that one class is effective for all fifth-grade students in the state.\n",
        "Since it's impossible to test every student, they take the class of 30 students as a sample.\n",
        "The official uses inferential statistics to:\n",
        "● Hypothesize that students taught with the new method have a higher average score\n",
        "than students taught with the old method.\n",
        "● Run a t-test to determine if the class's average score is statistically significant\n",
        "enough to conclude that the new method is effective for the entire population of\n",
        "fifth-graders.\n",
        "● Construct a confidence interval to estimate the true average score of all\n",
        "fifth-graders in the state.\n",
        "\n",
        "Question 2: What is sampling in statistics? Explain the differences between random and\n",
        "stratified sampling.\n",
        "\n",
        "Answer: Sampling is a process in statistics where a subset of individuals or items is\n",
        "selected from a larger population to estimate characteristics of that whole population.\n",
        "Because it's often impossible or impractical to collect data from every member of a large\n",
        "population, sampling allows researchers to gather data from a smaller, manageable group\n",
        "and make inferences about the larger group.\n",
        "Random vs. Stratified Sampling\n",
        "Random sampling and stratified sampling are both methods used to create a\n",
        "representative sample, but they differ in how the selection is performed.\n",
        "● Random Sampling (or Simple Random Sampling): In this method, every individual\n",
        "in the population has an equal chance of being selected for the sample. The\n",
        "selection is done without any predetermined subgroups or categories. Think of it like\n",
        "drawing names out of a hat—each name has the same probability of being chosen,\n",
        "regardless of any other characteristics. This method is straightforward and helps to\n",
        "minimize selection bias, as it doesn't favor any particular group. However, it can\n",
        "sometimes result in a sample that isn't perfectly representative if the random\n",
        "selection happens to miss a key demographic.\n",
        "○ Example: A school wants to survey 100 students about their cafeteria food.\n",
        "They get a list of all 1,000 students and use a random number generator to\n",
        "select 100 students to participate.\n",
        "● Stratified Sampling: This method involves dividing the population into distinct,\n",
        "non-overlapping subgroups, called strata, based on shared characteristics (e.g., age,\n",
        "gender, race, location). The goal is to ensure that the sample accurately reflects the\n",
        "proportions of these subgroups in the overall population. After the strata are defined,\n",
        "a random sample is taken from each stratum. This guarantees that all key\n",
        "subgroups are represented in the final sample.\n",
        "○ Example: The same school wants to ensure their survey of 100 students\n",
        "includes a representative mix of all grade levels. They divide the 1,000\n",
        "students into four strata: 9th, 10th, 11th, and 12th grade. If the 9th grade\n",
        "makes up 30% of the student body, they'll randomly select 30 students from\n",
        "that stratum. They repeat this process for the other grades, ensuring the final\n",
        "sample of 100 students has the correct proportion of each grade level.\n",
        "\n",
        "Question 3: Define mean, median, and mode. Explain why these measures of central\n",
        "tendency are important.\n",
        "\n",
        "Answer: Mean, median, and mode are the three most common measures of central\n",
        "tendency, which are single values that represent the center or a \"typical\" value of a dataset.\n",
        "They're all important because they each provide a different perspective on the data.\n",
        "Mean, Median, and Mode Defined\n",
        "● Mean: The arithmetic average of a set of numbers. It's calculated by adding all the\n",
        "values in a dataset and then dividing by the number of values. The mean is sensitive\n",
        "to every value in the dataset, which means it can be heavily influenced by outliers\n",
        "(extremely high or low values).\n",
        "● Median: The middle value in a dataset that has been arranged in order from\n",
        "smallest to largest. If there's an odd number of data points, the median is the single\n",
        "value in the middle. If there's an even number, the median is the average of the two\n",
        "middle values. The median is resistant to outliers.\n",
        "● Mode: The value that appears most frequently in a dataset. A dataset can have one\n",
        "mode, more than one mode (bimodal or multimodal), or no mode at all if no value is\n",
        "repeated. The mode is useful for both numerical and categorical data.\n",
        "Why These Measures Are Important\n",
        "These measures are crucial because they provide a concise summary of a dataset, making\n",
        "it easier to understand and interpret. They help us:\n",
        "● Summarize Data: A single number (like the mean or median) can represent a large\n",
        "amount of data, giving us a quick overview.\n",
        "● Identify Typical Values: They help us understand what a \"normal\" or \"common\"\n",
        "value looks like within a dataset. For example, knowing the mean income of a city\n",
        "gives you an idea of the typical earnings there.\n",
        "● Compare Datasets: By comparing the central tendencies of different datasets, we\n",
        "can identify differences or similarities. For example, a company might compare the\n",
        "median salaries of male and female employees to check for gender pay gaps.\n",
        "● Make Decisions: In many fields, from business to science, these measures are used\n",
        "to inform decisions. A clothing store might use the mode to determine the most\n",
        "popular size to stock, while a real estate agent might use the median home price to\n",
        "represent a neighborhood's market without being skewed by a single expensive\n",
        "mansion.\n",
        "\n",
        "Question 4: Explain skewness and kurtosis. What does a positive skew imply about the\n",
        "data?\n",
        "\n",
        "Answer: Skewness and kurtosis are two statistical measures that describe the shape of a\n",
        "data distribution. They provide insight into the distribution's asymmetry and the nature of its\n",
        "tails.\n",
        "Skewness\n",
        "Skewness measures the asymmetry of a data distribution. A perfectly symmetrical\n",
        "distribution (like a normal distribution or bell curve) has a skewness of zero. When the\n",
        "distribution is not symmetrical, it is either positively or negatively skewed.\n",
        "● Negative Skew (Left-Skewed): The tail of the distribution is longer on the left side.\n",
        "Most of the data values are clustered on the right, and the mean is typically less than\n",
        "the median.\n",
        "● Positive Skew (Right-Skewed): The tail of the distribution is longer on the right side.\n",
        "Most of the data values are clustered on the left, and the mean is typically greater\n",
        "than the median.\n",
        "● Zero Skew: The distribution is symmetrical, and the mean, median, and mode are all\n",
        "equal.\n",
        "Kurtosis\n",
        "Kurtosis measures the \"tailedness\" of a distribution, or the extremity of its outliers. It\n",
        "describes the shape of the tails relative to the center and a normal distribution. While often\n",
        "incorrectly associated with \"peakedness,\" kurtosis is more accurately a measure of whether\n",
        "the data has heavy or light tails.\n",
        "● Mesokurtic: A distribution with kurtosis similar to a normal distribution. It has a\n",
        "moderate peak and moderate tails.\n",
        "● Leptokurtic: A distribution with a higher kurtosis than a normal distribution. It has a\n",
        "sharper, more pointed peak and heavier, fatter tails, indicating a higher probability of\n",
        "extreme outliers.\n",
        "● Platykurtic: A distribution with a lower kurtosis than a normal distribution. It has a\n",
        "flatter peak and lighter tails, indicating fewer and less extreme outliers.\n",
        "What a Positive Skew Implies\n",
        "A positive skew implies that there's a long tail extending to the right of the distribution. This\n",
        "means:\n",
        "● The Mean is Greater than the Median: Because the long tail on the right is caused\n",
        "by a few high, extreme values (outliers), these values pull the mean toward them,\n",
        "making the mean larger than the median. The median, being the middle value, is not\n",
        "as affected by these outliers and remains closer to the main cluster of data.\n",
        "● Data is Clustered on the Low End: Most of the observations are concentrated on\n",
        "the left side of the graph, or at the lower end of the scale. Think of income\n",
        "distribution: most people earn a lower to average income, while a small number of\n",
        "people earn extremely high incomes, creating a long tail to the right.\n",
        "\n",
        "Question 5: Implement a Python program to compute the mean, median, and mode of a\n",
        "given list of numbers. numbers = [12, 15, 12, 18, 19, 12, 20, 22, 19, 19, 24, 24, 24, 26, 28]\n",
        "(Include your Python code and output in the code box below.)\n",
        "\n",
        "Answer:"
      ],
      "metadata": {
        "id": "zZHxe5YdjuUx"
      }
    },
    {
      "cell_type": "code",
      "source": [
        "import statistics\n",
        "# The given list of numbers\n",
        "numbers = [12, 15, 12, 18, 19, 12, 20, 22, 19, 19, 24, 24, 24, 26, 28]\n",
        "# Calculate the mean\n",
        "mean_value = statistics.mean(numbers)\n",
        "# Calculate the median\n",
        "median_value = statistics.median(numbers)\n",
        "# Calculate the mode\n",
        "try:\n",
        " mode_value = statistics.mode(numbers)\n",
        "except statistics.StatisticsError:\n",
        " mode_value = \"No unique mode found\"\n",
        " # Print the results\n",
        "print(f\"The list of numbers is: {numbers}\")\n",
        "print(f\"The mean is: {mean_value}\")\n",
        "print(f\"The median is: {median_value}\")\n",
        "print(f\"The mode is: {mode_value}\")"
      ],
      "metadata": {
        "colab": {
          "base_uri": "https://localhost:8080/"
        },
        "id": "bRsFd6RHmMtT",
        "outputId": "79173cdc-c82d-449c-c69a-a76a16a121a8"
      },
      "execution_count": 2,
      "outputs": [
        {
          "output_type": "stream",
          "name": "stdout",
          "text": [
            "The list of numbers is: [12, 15, 12, 18, 19, 12, 20, 22, 19, 19, 24, 24, 24, 26, 28]\n",
            "The mean is: 19.6\n",
            "The median is: 19\n",
            "The mode is: 12\n"
          ]
        }
      ]
    },
    {
      "cell_type": "markdown",
      "source": [
        "Question 6: Compute the covariance and correlation coefficient between the following two\n",
        "datasets provided as lists in Python: list_x = [10, 20, 30, 40, 50] list_y = [15, 25, 35, 45, 60]\n"
      ],
      "metadata": {
        "id": "PYY4P6fFmksq"
      }
    },
    {
      "cell_type": "code",
      "source": [
        "import numpy as np\n",
        "# The given lists of numbers\n",
        "list_x = [10, 20, 30, 40, 50]\n",
        "list_y = [15, 25, 35, 45, 60]\n",
        "# Convert lists to numpy arrays\n",
        "array_x = np.array(list_x)\n",
        "array_y = np.array(list_y)\n",
        "# Compute the covariance matrix\n",
        "covariance_matrix = np.cov(array_x, array_y)\n",
        "# The covariance between x and y is the off-diagonal element of the\n",
        "# matrix\n",
        "covariance = covariance_matrix[0, 1]\n",
        "# Compute the correlation coefficient matrix\n",
        "correlation_matrix = np.corrcoef(array_x, array_y)\n",
        "# The correlation coefficient is the off-diagonal element of the matrix\n",
        "correlation_coefficient = correlation_matrix[0, 1]\n",
        "# Print the results\n",
        "print(f\"List X: {list_x}\")\n",
        "print(f\"List Y: {list_y}\")\n",
        "print(f\"\\nCovariance between X and Y: {covariance}\")\n",
        "print(f\"Correlation Coefficient between X and Y: {correlation_coefficient}\")"
      ],
      "metadata": {
        "colab": {
          "base_uri": "https://localhost:8080/"
        },
        "id": "t2yZLq0mmqv2",
        "outputId": "2e9a3f44-d290-45f9-b5b5-98af2a74b1c1"
      },
      "execution_count": 4,
      "outputs": [
        {
          "output_type": "stream",
          "name": "stdout",
          "text": [
            "List X: [10, 20, 30, 40, 50]\n",
            "List Y: [15, 25, 35, 45, 60]\n",
            "\n",
            "Covariance between X and Y: 275.0\n",
            "Correlation Coefficient between X and Y: 0.995893206467704\n"
          ]
        }
      ]
    },
    {
      "cell_type": "markdown",
      "source": [
        "Question 7: Write a Python script to draw a boxplot for the following numeric list and identify\n",
        "its outliers. Explain the result: data = [12, 14, 14, 15, 18, 19, 19, 21, 22, 22, 23, 23, 24, 26,\n",
        "29, 35]"
      ],
      "metadata": {
        "id": "CgbuwoXWnJEv"
      }
    },
    {
      "cell_type": "code",
      "source": [
        "import matplotlib.pyplot as plt\n",
        "import numpy as np\n",
        "# The given numeric list\n",
        "data = [12, 14, 14, 15, 18, 19, 19, 21, 22, 22, 23, 23, 24, 26, 29, 35]\n",
        "# Calculate quartiles and IQR to identify outliers\n",
        "Q1 = np.percentile(data, 25)\n",
        "Q3 = np.percentile(data, 75)\n",
        "IQR = Q3 - Q1\n",
        "# Define the outlier boundaries\n",
        "lower_bound = Q1 - 1.5 * IQR\n",
        "upper_bound = Q3 + 1.5 * IQR\n",
        "# Identify the outliers\n",
        "outliers = [x for x in data if x < lower_bound or x > upper_bound]\n",
        "# Create the boxplot\n",
        "plt.figure(figsize=(8, 6))\n",
        "plt.boxplot(data, vert=False)\n",
        "plt.title('Boxplot of the Given Data')\n",
        "plt.xlabel('Values')\n",
        "# Save the plot to a file\n",
        "plt.savefig('boxplot.png')\n",
        "# Print the results\n",
        "print(f\"The given data is: {data}\")\n",
        "print(f\"Q1 (25th percentile): {Q1}\")\n",
        "print(f\"Q3 (75th percentile): {Q3}\")\n",
        "print(f\"IQR (Interquartile Range): {IQR}\")\n",
        "print(f\"Lower Bound for Outliers: {lower_bound}\")\n",
        "print(f\"Upper Bound for Outliers: {upper_bound}\")\n",
        "print(f\"Identified Outliers: {outliers}\")"
      ],
      "metadata": {
        "colab": {
          "base_uri": "https://localhost:8080/",
          "height": 686
        },
        "id": "5LXy1wMLnLlj",
        "outputId": "d2c636f1-5b59-4694-ea27-4e17116bb7a8"
      },
      "execution_count": 5,
      "outputs": [
        {
          "output_type": "stream",
          "name": "stdout",
          "text": [
            "The given data is: [12, 14, 14, 15, 18, 19, 19, 21, 22, 22, 23, 23, 24, 26, 29, 35]\n",
            "Q1 (25th percentile): 17.25\n",
            "Q3 (75th percentile): 23.25\n",
            "IQR (Interquartile Range): 6.0\n",
            "Lower Bound for Outliers: 8.25\n",
            "Upper Bound for Outliers: 32.25\n",
            "Identified Outliers: [35]\n"
          ]
        },
        {
          "output_type": "display_data",
          "data": {
            "text/plain": [
              "<Figure size 800x600 with 1 Axes>"
            ],
            "image/png": "[encoded data removed]"
          },
          "metadata": {}
        }
      ]
    },
    {
      "cell_type": "markdown",
      "source": [
        "Question 8: You are working as a data analyst in an e-commerce company. The marketing\n",
        "team wants to know if there is a relationship between advertising spend and daily sales. ●\n",
        "Explain how you would use covariance and correlation to explore this relationship. ● Write\n",
        "Python code to compute the correlation between the two lists: advertising_spend = [200,\n",
        "250, 300, 400, 500] daily_sales = [2200, 2450, 2750, 3200, 4000]\n",
        "\n",
        "\n",
        "Answer - Covariance measures the direction of the linear relationship between two\n",
        "variables.\n",
        "● A positive covariance indicates that as advertising spend increases, daily sales\n",
        "tend to increase as well.\n",
        "● A negative covariance would suggest that as advertising spend increases, daily\n",
        "sales tend to decrease.\n",
        "● A covariance close to zero suggests there is no linear relationship between the two\n",
        "variables.\n",
        "A key limitation of covariance is that its value is not standardized, making it difficult to\n",
        "interpret the strength of the relationship. For example, a covariance of 100 doesn't tell us if\n",
        "the relationship is strong or weak without knowing the scale of the original data.\n",
        "Correlation\n",
        "Correlation is a standardized measure that not only tells you the direction but also the\n",
        "strength of the linear relationship. The correlation coefficient (r) always ranges from -1 to\n",
        "+1.\n",
        "● A correlation coefficient close to +1 indicates a strong positive linear relationship.\n",
        "This means that as advertising spend goes up, daily sales are very likely to go up in\n",
        "a predictable, linear manner. This is the result the marketing team would hope for.\n",
        "● A correlation coefficient close to -1 indicates a strong negative linear relationship.\n",
        "● A correlation coefficient close to 0 indicates a weak or non-existent linear\n",
        "relationship.\n",
        "For your analysis, correlation is the more useful measure because its standardized value\n",
        "allows you to easily understand the strength of the relationship, which is exactly what the\n",
        "marketing team wants to know.\n",
        "Python Code for Correlation\n",
        "Here is the Python code to compute the correlation coefficient for the provided data.\n"
      ],
      "metadata": {
        "id": "xo9FYiGknyhA"
      }
    },
    {
      "cell_type": "code",
      "source": [
        "import numpy as np\n",
        "# The provided datasets\n",
        "advertising_spend = [200, 250, 300, 400, 500]\n",
        "daily_sales = [2200, 2450, 2750, 3200, 4000]\n",
        "# Convert lists to NumPy arrays for easy calculation\n",
        "spend_array = np.array(advertising_spend)\n",
        "sales_array = np.array(daily_sales)\n",
        "# Compute the correlation coefficient matrix\n",
        "# np.corrcoef() returns a 2x2 matrix. The off-diagonal element [0, 1]\n",
        "# is the correlation\n",
        "correlation_matrix = np.corrcoef(spend_array, sales_array)\n",
        "correlation_coefficient = correlation_matrix[0, 1]\n",
        "# Print the results\n",
        "print(f\"Advertising Spend Data: {advertising_spend}\")\n",
        "print(f\"Daily Sales Data: {daily_sales}\")\n",
        "print(f\"\\nCorrelation Coefficient: {correlation_coefficient}\")"
      ],
      "metadata": {
        "colab": {
          "base_uri": "https://localhost:8080/"
        },
        "id": "Bv4KJjHxn_ag",
        "outputId": "f85ecb44-d8fd-4ef1-8406-866a25920d8d"
      },
      "execution_count": 7,
      "outputs": [
        {
          "output_type": "stream",
          "name": "stdout",
          "text": [
            "Advertising Spend Data: [200, 250, 300, 400, 500]\n",
            "Daily Sales Data: [2200, 2450, 2750, 3200, 4000]\n",
            "\n",
            "Correlation Coefficient: 0.9935824101653329\n"
          ]
        }
      ]
    },
    {
      "cell_type": "markdown",
      "source": [
        "Question 9: Your team has collected customer satisfaction survey data on a scale of 1-10\n",
        "and wants to understand its distribution before launching a new product. ● Explain which\n",
        "summary statistics and visualizations (e.g. mean, standard deviation, histogram) you’d use.\n",
        "● Write Python code to create a histogram using Matplotlib for the survey data:\n",
        "survey_scores = [7, 8, 5, 9, 6, 7, 8, 9, 10, 4, 7, 6, 9, 8, 7]\n",
        "\n",
        "Answer- To understand the distribution of customer satisfaction scores before a product\n",
        "launch, a data analyst would use a combination of summary statistics and visualizations.\n",
        "These methods provide a quick, yet comprehensive, overview of the customer feedback.\n",
        "Summary Statistics\n",
        "Statistic Purpose\n",
        "Mean The average score. This gives a single value that represents the typical\n",
        "satisfaction level.\n",
        "Standard\n",
        "Deviation\n",
        "The measure of data dispersion. A low standard deviation means scores\n",
        "are clustered close to the mean, indicating a general consensus. A high\n",
        "standard deviation suggests a wider range of opinions, from very satisfied\n",
        "to very dissatisfied.\n",
        "Median The middle value. This is useful as it's not affected by a few extremely high\n",
        "or low scores (outliers), providing a more robust measure of the \"center\" of\n",
        "the data.\n",
        "Mode The most frequently occurring score. This tells us which rating was the\n",
        "most common response from customers.\n",
        "Export to Sheets\n",
        "Visualization\n",
        "A histogram is the most effective visualization for understanding the distribution of this data.\n",
        "It displays the frequency of each score on the y-axis, with the scores (1-10) on the x-axis. A\n",
        "histogram would immediately show the marketing team if the scores are skewed towards the\n",
        "high end (e.g., most people rated 8, 9, or 10), are normally distributed, or if there's a bimodal\n",
        "distribution with peaks at both low and high scores, suggesting a mixed reaction.\n",
        "Python Code for a Histogram\n",
        "Here's a Python script that creates a histogram for the provided survey data using Matplotlib\n"
      ],
      "metadata": {
        "id": "iSkYbZhhpEI2"
      }
    },
    {
      "cell_type": "code",
      "source": [
        "import matplotlib.pyplot as plt\n",
        "import numpy as np\n",
        "# The given customer satisfaction survey data\n",
        "survey_scores = [7, 8, 5, 9, 6, 7, 8, 9, 10, 4, 7, 6, 9, 8, 7]\n",
        "# Create the histogram\n",
        "plt.figure(figsize=(10, 6))\n",
        "plt.hist(survey_scores, bins=np.arange(3.5, 11.5, 1),\n",
        "edgecolor='black', rwidth=0.8)\n",
        "plt.title('Distribution of Customer Satisfaction Scores (1-10)',\n",
        "fontsize=16)\n",
        "plt.xlabel('Satisfaction Score', fontsize=12)\n",
        "plt.ylabel('Frequency', fontsize=12)\n",
        "plt.xticks(np.arange(4, 11))\n",
        "plt.grid(axis='y', alpha=0.75)\n",
        "# Save the plot to a file\n",
        "plt.savefig('satisfaction_histogram.png')\n",
        "print(\"Histogram plot created and saved as satisfaction_histogram.png\")"
      ],
      "metadata": {
        "colab": {
          "base_uri": "https://localhost:8080/",
          "height": 587
        },
        "id": "Ppdssti-pZkW",
        "outputId": "5482dc93-cae7-4f43-b635-17dfa2c98428"
      },
      "execution_count": 8,
      "outputs": [
        {
          "output_type": "stream",
          "name": "stdout",
          "text": [
            "Histogram plot created and saved as satisfaction_histogram.png\n"
          ]
        },
        {
          "output_type": "display_data",
          "data": {
            "text/plain": [
              "<Figure size 1000x600 with 1 Axes>"
            ],
            "image/png": "[encoded data removed]"
          },
          "metadata": {}
        }
      ]
    }
  ]
}